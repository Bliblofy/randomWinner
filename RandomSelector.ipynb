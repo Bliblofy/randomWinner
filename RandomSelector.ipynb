{
 "cells": [
  {
   "cell_type": "code",
   "execution_count": null,
   "id": "5c08dcec-0734-4ee1-b8b4-b98428a4f55c",
   "metadata": {},
   "outputs": [],
   "source": [
    "import sys\n",
    "!{sys.executable} -m pip install pandas # Installs the Module to do Math\n",
    "!{sys.executable} -m pip install openpyxl # Installs the Module to read from an excel"
   ]
  },
  {
   "cell_type": "code",
   "execution_count": null,
   "id": "df11a21c-7dba-4d68-b95c-6b3123da5df7",
   "metadata": {},
   "outputs": [],
   "source": [
    "import pandas as pd\n",
    "import random\n",
    "\n",
    "def select_random_winners(excel_file, email_column, num_winners=3):\n",
    "    \"\"\"\n",
    "    Select random winners from an Excel file containing email addresses.\n",
    "    \n",
    "    \"\"\"\n",
    "    # Read the Excel file\n",
    "    df = pd.read_excel(excel_file)\n",
    "    \n",
    "    # Verify the email column exists\n",
    "    if email_column not in df.columns:\n",
    "        raise ValueError(f\"Column '{email_column}' not found in the Excel file\")\n",
    "    \n",
    "    # Get unique email addresses (in case there are duplicates)\n",
    "    emails = df[email_column].unique().tolist()\n",
    "    \n",
    "    # Check if we have enough entries\n",
    "    if len(emails) < num_winners:\n",
    "        raise ValueError(f\"Not enough unique entries to select {num_winners} winners\")\n",
    "    \n",
    "    # Select random winners\n",
    "    winners = random.sample(emails, num_winners)\n",
    "    \n",
    "    return winners\n",
    "\n",
    "# Example usage:\n",
    "# Replace 'the_excel_with_data.xlsx' with your Excel file name\n",
    "# Replace 'Email' with your email column name\n",
    "try:\n",
    "    winners = select_random_winners('the_excel_with_data.xlsx', 'Email')\n",
    "    print(\"\\nCongratulations to our winners!\")\n",
    "    for i, winner in enumerate(winners, 1):\n",
    "        print(f\"Winner #{i}: {winner}\")\n",
    "except Exception as e:\n",
    "    print(f\"An error occurred: {e}\")"
   ]
  }
 ],
 "metadata": {
  "kernelspec": {
   "display_name": "Python 3 (ipykernel)",
   "language": "python",
   "name": "python3"
  },
  "language_info": {
   "codemirror_mode": {
    "name": "ipython",
    "version": 3
   },
   "file_extension": ".py",
   "mimetype": "text/x-python",
   "name": "python",
   "nbconvert_exporter": "python",
   "pygments_lexer": "ipython3",
   "version": "3.13.1"
  }
 },
 "nbformat": 4,
 "nbformat_minor": 5
}
